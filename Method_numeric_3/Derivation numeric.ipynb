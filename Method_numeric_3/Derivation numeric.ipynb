{
 "cells": [
  {
   "cell_type": "code",
   "execution_count": 17,
   "id": "52d3e5c5",
   "metadata": {},
   "outputs": [],
   "source": [
    "import numpy as np\n",
    "import math\n",
    "import sys\n",
    "import matplotlib.pyplot as plt"
   ]
  },
  {
   "cell_type": "markdown",
   "id": "9a9cf02c",
   "metadata": {},
   "source": [
    " The $\\frac{dx}{dy} = -1,2y+7e^{-0,3x}$ and the exactly answer $y(x)= \\frac{70}{9}e^{-0,3x} - \\frac{43}{9}e^{-1,2x}$ was used with final propose to ilustrate the code and plot, althought the user could modify to a existencial EDO with an knowing answer.\n",
    " <p>\n",
    "    Code reference\n",
    "- Method Euler = https://www.youtube.com/watch?v=X_FOtuM1j7w \n",
    "- Method Euler = https://www.youtube.com/watch?v=YKHNZk7vi-k  "
   ]
  },
  {
   "cell_type": "code",
   "execution_count": 18,
   "id": "7a9bd8d2",
   "metadata": {},
   "outputs": [],
   "source": [
    "dydx = lambda x,y : -1.2*y +7*(math.exp(-0.3*x))  # The derivative functions\n",
    "f = lambda x :(70/9)*(math.exp(-0.3*x)) - (43/9)*(math.exp(-1.2*x)) # The exactly answer\n",
    "#Those functions could be change whose prefer user"
   ]
  },
  {
   "cell_type": "code",
   "execution_count": 19,
   "id": "bfd450e7",
   "metadata": {},
   "outputs": [],
   "source": [
    "#Those functions could be change whose prefer user\n",
    "#The dydx and f functions was reference those functions on the slides classroom pag 286\n",
    "def solve_edo(x0,y0,xn,h,str):\n",
    "    #x0 = initial value x , xn=final value , y0=  inital value , h =step size\n",
    "    #The [x0,xn] present the interval worked  \n",
    "    if x0>xn or h <=0 :# Validation code, allos the interval make sense and step size be positive number\n",
    "        raise ValueError(\"Incorrect input value\")\n",
    "        None\n",
    "        exit\n",
    "\n",
    "    # Calculating step size\n",
    "    n = int((xn-x0)/h) # The math behind the step size\n",
    "    x_plot = [];y_euler = [] ; y_analytical = [] #Creating empyt array to plot after\n",
    "    \n",
    "    print('\\n-----------SOLUTION-----------')\n",
    "    print('------------------------------')    \n",
    "    print('x0\\ty0\\tslope\\tyn')\n",
    "    print('------------------------------')\n",
    "    if str =='euler': # Euler Method\n",
    "    \n",
    "        for i in range(1,n+1): # This looping is the table of interactions\n",
    "            x_plot.append(x0); y_euler.append(y0) ;y_analytical.append(f(x0)) #Adding the value to plot\n",
    "            slope = dydx(x0, y0) \n",
    "            yn = y0 + h * slope # yi+1\n",
    "            print('%.4f\\t%.4f\\t%0.4f\\t%.4f'% (x0,y0,slope,yn) )\n",
    "            print('------------------------------')\n",
    "            y0 = yn #Update the value yi \n",
    "            x0 = x0+h #Update the value xi \n",
    "\n",
    "        print('\\nAt x=%.4f, y=%.4f' %(xn,yn))\n",
    "        #The plotting \n",
    "        plt.figure(figsize= (12,8))\n",
    "        x_plot.append(x0); y_euler.append(y0) ;y_analytical.append(f(x0))\n",
    "        plt.plot(x_plot,y_euler,'ro',x_plot,y_analytical,linestyle='dashed')\n",
    "        plt.title(\"The Euler Method\", fontsize = 20)\n",
    "        plt.xticks(rotation = 0, fontsize = 15)\n",
    "        plt.yticks(rotation = 0, fontsize = 15)\n",
    "        plt.legend(['Euler','Analytical'])\n",
    "        plt.grid(True)\n",
    "        plt.show()\n",
    "    # Those methods aply below was used the same idea above about the looping, plot and variables.     \n",
    "    if str =='center': # Central Point method \n",
    "        for i in range(1,n+1):\n",
    "            x_plot.append(x0); y_euler.append(y0) ;y_analytical.append(f(x0))\n",
    "            slope = dydx(x0, y0)\n",
    "            xm = x0 +h*0.5 #Calculating the point average X \n",
    "            ym = y0 + h * slope*0.5 #Calculating the point average y\n",
    "            yn = y0+(h)*(dydx(xm, ym)) #Calculating the Yi+1\n",
    "\n",
    "            print('%.4f\\t%.4f\\t%0.4f\\t%.4f\\t%1.4f\\t%2.4f'% (x0,y0,slope,yn,xm,ym) )\n",
    "            print('--------------------------------------')\n",
    "            y0 = yn\n",
    "            x0 = x0+h\n",
    "\n",
    "        print('\\nAt x=%.4f, y=%.4f' %(xn,yn))\n",
    "        plt.figure(figsize= (12,8))\n",
    "        x_plot.append(x0); y_euler.append(y0) ;y_analytical.append(f(x0))\n",
    "        plt.plot(x_plot,y_euler,'ro',x_plot,y_analytical, linestyle='dashed')\n",
    "        plt.title(\"The Central point Method\", fontsize = 20)\n",
    "        plt.xticks(rotation = 0, fontsize = 15)\n",
    "        plt.yticks(rotation = 0, fontsize = 15)\n",
    "        plt.legend(['Central point','Analytical'])\n",
    "        plt.grid(True)\n",
    "        plt.show()\n",
    "        \n",
    "    if str =='eulerm': # Modified Euler method\n",
    "        \n",
    "        for i in range(1,n+1):\n",
    "            x_plot.append(x0); y_euler.append(y0) ;y_analytical.append(f(x0))\n",
    "            slope = dydx(x0, y0)\n",
    "            yn = y0 + h * slope\n",
    "            yn = y0+(0.5)*(h)*(slope+dydx(x0, yn))\n",
    "            print('%.4f\\t%.4f\\t%0.4f\\t%.4f'% (x0,y0,slope,yn) )\n",
    "            print('------------------------------')\n",
    "            y0 = yn\n",
    "            x0 = x0+h\n",
    "\n",
    "        print('\\nAt x=%.4f, y=%.4f' %(xn,yn))\n",
    "        plt.figure(figsize= (12,8))\n",
    "        x_plot.append(x0); y_euler.append(y0) ;y_analytical.append(f(x0))\n",
    "        plt.plot(x_plot,y_euler,'ro',x_plot,y_analytical,linestyle='dashed')\n",
    "        plt.title(\"The Modified Euler Method\", fontsize = 20)\n",
    "        plt.xticks(rotation = 0, fontsize = 15)\n",
    "        plt.yticks(rotation = 0, fontsize = 15)\n",
    "        plt.legend(['Modified Euler','Analytical'])\n",
    "        plt.grid(True)\n",
    "        plt.show()\n",
    "                      \n"
   ]
  },
  {
   "cell_type": "code",
   "execution_count": 20,
   "id": "e0222eea",
   "metadata": {},
   "outputs": [
    {
     "name": "stdout",
     "output_type": "stream",
     "text": [
      "Enter initial conditions:\n",
      "x0 = -1\n",
      "y0 = 2\n",
      "Enter calculation point: \n",
      "xn = 1.5\n",
      "Enter number of steps:\n",
      "Number of steps = 0.25\n",
      "Enter with method required for the problem:\n",
      "Name the method choosen = eulerm\n",
      "\n",
      "-----------SOLUTION-----------\n",
      "------------------------------\n",
      "x0\ty0\tslope\tyn\n",
      "------------------------------\n",
      "-1.0000\t2.0000\t7.0490\t3.4979\n",
      "------------------------------\n",
      "-0.7500\t3.4979\t4.5688\t4.4688\n",
      "------------------------------\n",
      "-0.5000\t4.4688\t2.7703\t5.0575\n",
      "------------------------------\n",
      "-0.2500\t5.0575\t1.4762\t5.3712\n",
      "------------------------------\n",
      "0.0000\t5.3712\t0.5546\t5.4890\n",
      "------------------------------\n",
      "0.2500\t5.4890\t-0.0926\t5.4693\n",
      "------------------------------\n",
      "0.5000\t5.4693\t-0.5382\t5.3550\n",
      "------------------------------\n",
      "0.7500\t5.3550\t-0.8363\t5.1772\n",
      "------------------------------\n",
      "1.0000\t5.1772\t-1.0270\t4.9590\n",
      "------------------------------\n",
      "1.2500\t4.9590\t-1.1398\t4.7168\n",
      "------------------------------\n",
      "\n",
      "At x=1.5000, y=4.7168\n"
     ]
    },
    {
     "data": {
      "image/png": "[encoded data removed]",
      "text/plain": [
       "<Figure size 864x576 with 1 Axes>"
      ]
     },
     "metadata": {
      "needs_background": "light"
     },
     "output_type": "display_data"
    }
   ],
   "source": [
    "print('Enter initial conditions:')\n",
    "x0 = float(input('x0 = '))\n",
    "y0 = float(input('y0 = '))\n",
    "\n",
    "print('Enter calculation point: ')\n",
    "xn = float(input('xn = '))\n",
    "\n",
    "print('Enter number of steps:')\n",
    "step = float(input('Number of steps = '))\n",
    "print('Enter with method required for the problem:')\n",
    "method = str(input('Name the method choosen = '))\n",
    "\n",
    "# Euler method call\n",
    "solve_edo(x0,y0,xn,step,method)"
   ]
  },
  {
   "cell_type": "code",
   "execution_count": null,
   "id": "ddbb2a03",
   "metadata": {},
   "outputs": [],
   "source": []
  }
 ],
 "metadata": {
  "kernelspec": {
   "display_name": "Python 3",
   "language": "python",
   "name": "python3"
  },
  "language_info": {
   "codemirror_mode": {
    "name": "ipython",
    "version": 3
   },
   "file_extension": ".py",
   "mimetype": "text/x-python",
   "name": "python",
   "nbconvert_exporter": "python",
   "pygments_lexer": "ipython3",
   "version": "3.8.8"
  }
 },
 "nbformat": 4,
 "nbformat_minor": 5
}
